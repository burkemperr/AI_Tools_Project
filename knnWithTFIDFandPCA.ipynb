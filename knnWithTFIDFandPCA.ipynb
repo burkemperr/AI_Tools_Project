{
 "cells": [
  {
   "cell_type": "markdown",
   "id": "0ea5ae33",
   "metadata": {},
   "source": [
    "## AI Tools Final Project Baseline Model: kNN Fake News Classifier"
   ]
  },
  {
   "cell_type": "markdown",
   "id": "cc25df5b",
   "metadata": {},
   "source": [
    "**Basic kNN model that predicts if articles are real or fake news by taking in the headlines that are vectorized using 'Bag of Words' approach. Simple word count is used for vectors, no weighting by frequency or sequential data included.**"
   ]
  },
  {
   "cell_type": "code",
   "execution_count": 1,
   "id": "c47a340c",
   "metadata": {},
   "outputs": [],
   "source": [
    "import pandas as pd\n",
    "import numpy as np\n",
    "import re"
   ]
  },
  {
   "cell_type": "markdown",
   "id": "0edc8b51",
   "metadata": {},
   "source": [
    "**Import Dataset: \"Fake News Classification\". We only want the headline and the label.**"
   ]
  },
  {
   "cell_type": "code",
   "execution_count": 2,
   "id": "5bec34be",
   "metadata": {},
   "outputs": [
    {
     "data": {
      "text/html": [
       "<div>\n",
       "<style scoped>\n",
       "    .dataframe tbody tr th:only-of-type {\n",
       "        vertical-align: middle;\n",
       "    }\n",
       "\n",
       "    .dataframe tbody tr th {\n",
       "        vertical-align: top;\n",
       "    }\n",
       "\n",
       "    .dataframe thead th {\n",
       "        text-align: right;\n",
       "    }\n",
       "</style>\n",
       "<table border=\"1\" class=\"dataframe\">\n",
       "  <thead>\n",
       "    <tr style=\"text-align: right;\">\n",
       "      <th></th>\n",
       "      <th>title</th>\n",
       "      <th>label</th>\n",
       "    </tr>\n",
       "  </thead>\n",
       "  <tbody>\n",
       "    <tr>\n",
       "      <th>0</th>\n",
       "      <td>LAW ENFORCEMENT ON HIGH ALERT Following Threat...</td>\n",
       "      <td>1</td>\n",
       "    </tr>\n",
       "    <tr>\n",
       "      <th>2</th>\n",
       "      <td>UNBELIEVABLE! OBAMA’S ATTORNEY GENERAL SAYS MO...</td>\n",
       "      <td>1</td>\n",
       "    </tr>\n",
       "    <tr>\n",
       "      <th>3</th>\n",
       "      <td>Bobby Jindal, raised Hindu, uses story of Chri...</td>\n",
       "      <td>0</td>\n",
       "    </tr>\n",
       "    <tr>\n",
       "      <th>4</th>\n",
       "      <td>SATAN 2: Russia unvelis an image of its terrif...</td>\n",
       "      <td>1</td>\n",
       "    </tr>\n",
       "    <tr>\n",
       "      <th>5</th>\n",
       "      <td>About Time! Christian Group Sues Amazon and SP...</td>\n",
       "      <td>1</td>\n",
       "    </tr>\n",
       "    <tr>\n",
       "      <th>6</th>\n",
       "      <td>DR BEN CARSON TARGETED BY THE IRS: “I never ha...</td>\n",
       "      <td>1</td>\n",
       "    </tr>\n",
       "    <tr>\n",
       "      <th>7</th>\n",
       "      <td>HOUSE INTEL CHAIR On Trump-Russia Fake Story: ...</td>\n",
       "      <td>1</td>\n",
       "    </tr>\n",
       "    <tr>\n",
       "      <th>8</th>\n",
       "      <td>Sports Bar Owner Bans NFL Games…Will Show Only...</td>\n",
       "      <td>1</td>\n",
       "    </tr>\n",
       "    <tr>\n",
       "      <th>9</th>\n",
       "      <td>Latest Pipeline Leak Underscores Dangers Of Da...</td>\n",
       "      <td>1</td>\n",
       "    </tr>\n",
       "    <tr>\n",
       "      <th>10</th>\n",
       "      <td>GOP Senator Just Smacked Down The Most Puncha...</td>\n",
       "      <td>1</td>\n",
       "    </tr>\n",
       "  </tbody>\n",
       "</table>\n",
       "</div>"
      ],
      "text/plain": [
       "                                                title  label\n",
       "0   LAW ENFORCEMENT ON HIGH ALERT Following Threat...      1\n",
       "2   UNBELIEVABLE! OBAMA’S ATTORNEY GENERAL SAYS MO...      1\n",
       "3   Bobby Jindal, raised Hindu, uses story of Chri...      0\n",
       "4   SATAN 2: Russia unvelis an image of its terrif...      1\n",
       "5   About Time! Christian Group Sues Amazon and SP...      1\n",
       "6   DR BEN CARSON TARGETED BY THE IRS: “I never ha...      1\n",
       "7   HOUSE INTEL CHAIR On Trump-Russia Fake Story: ...      1\n",
       "8   Sports Bar Owner Bans NFL Games…Will Show Only...      1\n",
       "9   Latest Pipeline Leak Underscores Dangers Of Da...      1\n",
       "10   GOP Senator Just Smacked Down The Most Puncha...      1"
      ]
     },
     "execution_count": 2,
     "metadata": {},
     "output_type": "execute_result"
    }
   ],
   "source": [
    "data = pd.read_csv(\"WELFake_Dataset.csv\")\n",
    "data = data.dropna()\n",
    "data = data.drop(columns = [\"text\"])\n",
    "data = data.drop(columns = [\"Unnamed: 0\"])\n",
    "data.head(10)"
   ]
  },
  {
   "cell_type": "markdown",
   "id": "7442e5dc",
   "metadata": {},
   "source": [
    "**Subset of data being used.**"
   ]
  },
  {
   "cell_type": "code",
   "execution_count": 3,
   "id": "89704b50",
   "metadata": {},
   "outputs": [],
   "source": [
    "data = data"
   ]
  },
  {
   "cell_type": "markdown",
   "id": "0736581e",
   "metadata": {},
   "source": [
    "**Method that takes in one headline, preprocesses it into a list of words, and adds all the new, unique words into a global frequency dictionary for the entire dataset.**"
   ]
  },
  {
   "cell_type": "code",
   "execution_count": 4,
   "id": "2bac05c6",
   "metadata": {},
   "outputs": [],
   "source": [
    "def make_frequency_dict(headline):\n",
    "    words_list = process_sentence(headline)\n",
    "\n",
    "    for word in words_list:\n",
    "        if word in frequency_dict:\n",
    "            frequency_dict[word] += 1\n",
    "        else:\n",
    "            frequency_dict[word] = 1"
   ]
  },
  {
   "cell_type": "markdown",
   "id": "44f6ff61",
   "metadata": {},
   "source": [
    "**Preprocessing method that takes in text and puts it into a list of individual, lowercase words with no numbers or punctuation.**"
   ]
  },
  {
   "cell_type": "code",
   "execution_count": 5,
   "id": "f6a496ba",
   "metadata": {},
   "outputs": [],
   "source": [
    "def process_sentence(text):\n",
    "    text = re.sub(r'\\d', '', text)\n",
    "    text = re.sub(r'[^\\w\\s]','',text)\n",
    "    text = text.lower()\n",
    "    words_list = text.split()\n",
    "    return words_list"
   ]
  },
  {
   "cell_type": "markdown",
   "id": "46612667",
   "metadata": {},
   "source": [
    "**Method that takes in all the headlines of the entire dataset and the total unique words list and returns a 2D numpy array that contains a vector for each headline. Each vector is total_unique_words in length and each index in the vector represents the count of that word in that specific headline.**"
   ]
  },
  {
   "cell_type": "code",
   "execution_count": 6,
   "id": "f1e84455",
   "metadata": {},
   "outputs": [],
   "source": [
    "def headline_to_vector_fast(headlines, total_unique_words):\n",
    "    # processes all headlines at once\n",
    "    word_lists = headlines.apply(process_sentence)\n",
    "\n",
    "    # create a dictionary of words as keys, indices as values\n",
    "    word_to_index = {word: idx for idx, word in enumerate(total_unique_words)}\n",
    "\n",
    "    # create 2D numpy array of zeros, specify integers in dictionary\n",
    "    vectors = np.zeros((len(headlines), len(total_unique_words)), dtype=int)\n",
    "\n",
    "    # creates array with each headline having a vector \n",
    "    for i, words in enumerate(word_lists):\n",
    "        for word in words:\n",
    "            if word in word_to_index:\n",
    "                vectors[i, word_to_index[word]] += 1\n",
    "\n",
    "    return vectors"
   ]
  },
  {
   "cell_type": "markdown",
   "id": "e549a957",
   "metadata": {},
   "source": [
    "**Runs the above methods to fully preprocess the dataset into vectors that can be put into the kNN model.**"
   ]
  },
  {
   "cell_type": "code",
   "execution_count": 7,
   "id": "a900450d",
   "metadata": {},
   "outputs": [
    {
     "name": "stdout",
     "output_type": "stream",
     "text": [
      "Number of unique words: 36634\n",
      "(71537, 36634)\n",
      "X is <class 'numpy.ndarray'>\n"
     ]
    }
   ],
   "source": [
    "# create frequency dictionary \n",
    "frequency_dict = {}\n",
    "titles_list = data[\"title\"].tolist()\n",
    "for title in titles_list:\n",
    "    make_frequency_dict(title)\n",
    "\n",
    "# extract list of unique words\n",
    "total_unique_words = list(frequency_dict.keys())\n",
    "size = len(total_unique_words)\n",
    "print(\"Number of unique words:\", size)\n",
    "\n",
    "# create input array of dimension: number headlines by unique word vector\n",
    "X = headline_to_vector_fast(data[\"title\"], total_unique_words)\n",
    "\n",
    "print(X.shape)\n",
    "print(\"X is\", type(X))"
   ]
  },
  {
   "cell_type": "markdown",
   "id": "aee00196",
   "metadata": {},
   "source": [
    "## TF-IDF"
   ]
  },
  {
   "cell_type": "code",
   "execution_count": 8,
   "id": "dc9338b6",
   "metadata": {},
   "outputs": [
    {
     "data": {
      "text/html": [
       "<div>\n",
       "<style scoped>\n",
       "    .dataframe tbody tr th:only-of-type {\n",
       "        vertical-align: middle;\n",
       "    }\n",
       "\n",
       "    .dataframe tbody tr th {\n",
       "        vertical-align: top;\n",
       "    }\n",
       "\n",
       "    .dataframe thead th {\n",
       "        text-align: right;\n",
       "    }\n",
       "</style>\n",
       "<table border=\"1\" class=\"dataframe\">\n",
       "  <thead>\n",
       "    <tr style=\"text-align: right;\">\n",
       "      <th></th>\n",
       "      <th>title</th>\n",
       "      <th>label</th>\n",
       "    </tr>\n",
       "  </thead>\n",
       "  <tbody>\n",
       "    <tr>\n",
       "      <th>0</th>\n",
       "      <td>LAW ENFORCEMENT ON HIGH ALERT Following Threat...</td>\n",
       "      <td>1</td>\n",
       "    </tr>\n",
       "    <tr>\n",
       "      <th>2</th>\n",
       "      <td>UNBELIEVABLE! OBAMA’S ATTORNEY GENERAL SAYS MO...</td>\n",
       "      <td>1</td>\n",
       "    </tr>\n",
       "    <tr>\n",
       "      <th>3</th>\n",
       "      <td>Bobby Jindal, raised Hindu, uses story of Chri...</td>\n",
       "      <td>0</td>\n",
       "    </tr>\n",
       "    <tr>\n",
       "      <th>4</th>\n",
       "      <td>SATAN 2: Russia unvelis an image of its terrif...</td>\n",
       "      <td>1</td>\n",
       "    </tr>\n",
       "    <tr>\n",
       "      <th>5</th>\n",
       "      <td>About Time! Christian Group Sues Amazon and SP...</td>\n",
       "      <td>1</td>\n",
       "    </tr>\n",
       "    <tr>\n",
       "      <th>6</th>\n",
       "      <td>DR BEN CARSON TARGETED BY THE IRS: “I never ha...</td>\n",
       "      <td>1</td>\n",
       "    </tr>\n",
       "    <tr>\n",
       "      <th>7</th>\n",
       "      <td>HOUSE INTEL CHAIR On Trump-Russia Fake Story: ...</td>\n",
       "      <td>1</td>\n",
       "    </tr>\n",
       "    <tr>\n",
       "      <th>8</th>\n",
       "      <td>Sports Bar Owner Bans NFL Games…Will Show Only...</td>\n",
       "      <td>1</td>\n",
       "    </tr>\n",
       "    <tr>\n",
       "      <th>9</th>\n",
       "      <td>Latest Pipeline Leak Underscores Dangers Of Da...</td>\n",
       "      <td>1</td>\n",
       "    </tr>\n",
       "    <tr>\n",
       "      <th>10</th>\n",
       "      <td>GOP Senator Just Smacked Down The Most Puncha...</td>\n",
       "      <td>1</td>\n",
       "    </tr>\n",
       "  </tbody>\n",
       "</table>\n",
       "</div>"
      ],
      "text/plain": [
       "                                                title  label\n",
       "0   LAW ENFORCEMENT ON HIGH ALERT Following Threat...      1\n",
       "2   UNBELIEVABLE! OBAMA’S ATTORNEY GENERAL SAYS MO...      1\n",
       "3   Bobby Jindal, raised Hindu, uses story of Chri...      0\n",
       "4   SATAN 2: Russia unvelis an image of its terrif...      1\n",
       "5   About Time! Christian Group Sues Amazon and SP...      1\n",
       "6   DR BEN CARSON TARGETED BY THE IRS: “I never ha...      1\n",
       "7   HOUSE INTEL CHAIR On Trump-Russia Fake Story: ...      1\n",
       "8   Sports Bar Owner Bans NFL Games…Will Show Only...      1\n",
       "9   Latest Pipeline Leak Underscores Dangers Of Da...      1\n",
       "10   GOP Senator Just Smacked Down The Most Puncha...      1"
      ]
     },
     "execution_count": 8,
     "metadata": {},
     "output_type": "execute_result"
    }
   ],
   "source": [
    "data = data.dropna()\n",
    "title_and_label = data\n",
    "#title_and_label.head(10)\n",
    "\n",
    "title_and_label_2 = data\n",
    "title_and_label_2.head(10)"
   ]
  },
  {
   "cell_type": "code",
   "execution_count": 9,
   "id": "208ac0d9",
   "metadata": {},
   "outputs": [
    {
     "name": "stdout",
     "output_type": "stream",
     "text": [
      "36634\n",
      "(71537, 36634)\n"
     ]
    }
   ],
   "source": [
    "#title_and_label_2 = title_and_label_2[:10000]\n",
    "\n",
    "\n",
    "def make_frequency_dict(text):\n",
    "    words = process_sentence(text)\n",
    "    for word in words:\n",
    "        if word in frequency_dict:\n",
    "            frequency_dict[word] += 1\n",
    "        else:\n",
    "            frequency_dict[word] = 1\n",
    "\n",
    "\n",
    "def process_sentence(text):\n",
    "    text = re.sub(r'\\d', '', text)\n",
    "    text = re.sub(r'[^\\w\\s]','',text)\n",
    "    text = text.lower()\n",
    "    words = text.split()\n",
    "    return words\n",
    "\n",
    "\n",
    "def headline_to_vector(headline):\n",
    "    words_list = process_sentence(headline) # sentence broken up into individual words\n",
    "    headline_dict = dict.fromkeys(total_unique_words, 0) # the entire csv dictionary with blank values\n",
    "    for word in words_list:\n",
    "        if(word in headline_dict):\n",
    "            headline_dict[word] += 1\n",
    "    vector = list(headline_dict.values())\n",
    "    return np.array(vector)\n",
    "\n",
    "\n",
    "frequency_dict = {}\n",
    "\n",
    "# this creates the frequency dictionary for the whole csv file\n",
    "\n",
    "titles_list = title_and_label_2[\"title\"].tolist()\n",
    "\n",
    "for title in titles_list:\n",
    "    make_frequency_dict(title)\n",
    "\n",
    "total_unique_words = frequency_dict.keys()\n",
    "size = len(total_unique_words)\n",
    "print(size)\n",
    "\n",
    "X = np.empty((size, size))\n",
    "\n",
    "vectors = title_and_label_2[\"title\"].apply(headline_to_vector).to_numpy()\n",
    "\n",
    "X = np.stack(vectors)\n",
    "\n",
    "print(X.shape)"
   ]
  },
  {
   "cell_type": "code",
   "execution_count": 10,
   "id": "ac8cd158",
   "metadata": {},
   "outputs": [],
   "source": [
    "from sklearn.preprocessing import StandardScaler\n",
    "from sklearn.decomposition import PCA\n",
    "\n",
    "# Standardize the data\n",
    "scaler = StandardScaler()\n",
    "X_scaled = scaler.fit_transform(X)\n",
    "\n",
    "# Apply PCA to retain 95% of the variance\n",
    "# pca = PCA(n_components=0.90, random_state=42)\n",
    "# X_pca = pca.fit_transform(X_scaled)\n",
    "pca = PCA(n_components=2, random_state=42)\n",
    "X_pca = pca.fit_transform(X_scaled)"
   ]
  },
  {
   "cell_type": "markdown",
   "id": "606f4c33",
   "metadata": {},
   "source": [
    "**Basic kNN model used in class.**"
   ]
  },
  {
   "cell_type": "markdown",
   "id": "43496266",
   "metadata": {},
   "source": [
    "**runKNN method that creates the model, 'fits' the data, predicts the testing set, and returns the accuracy of the testing set.**"
   ]
  },
  {
   "cell_type": "code",
   "execution_count": 11,
   "id": "95dd2cea",
   "metadata": {},
   "outputs": [],
   "source": [
    "from sklearn.metrics import accuracy_score\n",
    "\n",
    "def runKNN(kVal, train_x, train_y, test_x, test_y):\n",
    "    knn = KNN(kVal)\n",
    "    knn.fit(train_x, train_y)\n",
    "    predictions = knn.predict_loop(test_x)\n",
    "    return accuracy_score(test_y, predictions)"
   ]
  },
  {
   "cell_type": "markdown",
   "id": "08f69365",
   "metadata": {},
   "source": [
    "**Train/test split using the preprocessed 2D numy array created earlier and the labels form the dataset. 80/20 train/test split is standard.**"
   ]
  },
  {
   "cell_type": "code",
   "execution_count": 12,
   "id": "433ae841",
   "metadata": {},
   "outputs": [
    {
     "name": "stdout",
     "output_type": "stream",
     "text": [
      "(57229, 2)\n",
      "(14308, 2)\n",
      "(57229,)\n",
      "(14308,)\n"
     ]
    }
   ],
   "source": [
    "from sklearn.model_selection import train_test_split\n",
    "#labels_vector = data[\"label\"].to_numpy()\n",
    "labels_vector = data[\"label\"].to_numpy()[:X.shape[0]]  # Trim labels to match X\n",
    "\n",
    "\n",
    "# X_train, X_test, y_train, y_test = train_test_split(X, labels_vector, test_size=0.2, random_state=0)\n",
    "X_train, X_test, y_train, y_test = train_test_split(X_pca, labels_vector, test_size=0.2, random_state=0)\n",
    "\n",
    "print(X_train.shape)\n",
    "print(X_test.shape)\n",
    "print(y_train.shape)\n",
    "print(y_test.shape)"
   ]
  },
  {
   "cell_type": "code",
   "execution_count": 13,
   "id": "e9bfd50e",
   "metadata": {},
   "outputs": [],
   "source": [
    "# runKNN(1, X_train, y_train, X_test, y_test)"
   ]
  },
  {
   "cell_type": "code",
   "execution_count": 14,
   "id": "28fcf0d5",
   "metadata": {},
   "outputs": [
    {
     "name": "stdout",
     "output_type": "stream",
     "text": [
      "0.7321778026279004\n"
     ]
    }
   ],
   "source": [
    "from sklearn.neighbors import KNeighborsClassifier\n",
    "from sklearn.metrics import accuracy_score\n",
    "\n",
    "knn = KNeighborsClassifier(n_neighbors = 7000)\n",
    "knn.fit(X_train, y_train)\n",
    "y_pred = knn.predict(X_test)\n",
    "accuracy = accuracy_score(y_test, y_pred)\n",
    "print(accuracy)"
   ]
  },
  {
   "cell_type": "code",
   "execution_count": null,
   "id": "ca838a83",
   "metadata": {},
   "outputs": [],
   "source": []
  },
  {
   "cell_type": "code",
   "execution_count": null,
   "id": "3ad31ec8",
   "metadata": {},
   "outputs": [],
   "source": []
  }
 ],
 "metadata": {
  "kernelspec": {
   "display_name": "Python 3 (ipykernel)",
   "language": "python",
   "name": "python3"
  },
  "language_info": {
   "codemirror_mode": {
    "name": "ipython",
    "version": 3
   },
   "file_extension": ".py",
   "mimetype": "text/x-python",
   "name": "python",
   "nbconvert_exporter": "python",
   "pygments_lexer": "ipython3",
   "version": "3.10.12"
  }
 },
 "nbformat": 4,
 "nbformat_minor": 5
}
